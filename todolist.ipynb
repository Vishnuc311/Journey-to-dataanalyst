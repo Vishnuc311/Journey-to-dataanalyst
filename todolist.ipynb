{
  "nbformat": 4,
  "nbformat_minor": 0,
  "metadata": {
    "colab": {
      "provenance": [],
      "authorship_tag": "ABX9TyNtxgmtXLgWAsZro18kzLOy",
      "include_colab_link": true
    },
    "kernelspec": {
      "name": "python3",
      "display_name": "Python 3"
    },
    "language_info": {
      "name": "python"
    }
  },
  "cells": [
    {
      "cell_type": "markdown",
      "metadata": {
        "id": "view-in-github",
        "colab_type": "text"
      },
      "source": [
        "<a href=\"https://colab.research.google.com/github/Vishnuc311/Journey-to-dataanalyst/blob/main/todolist.ipynb\" target=\"_parent\"><img src=\"https://colab.research.google.com/assets/colab-badge.svg\" alt=\"Open In Colab\"/></a>"
      ]
    },
    {
      "cell_type": "code",
      "execution_count": 1,
      "metadata": {
        "colab": {
          "base_uri": "https://localhost:8080/"
        },
        "id": "vHdJOTe61dj1",
        "outputId": "0606095f-1ac3-42cd-d99b-a209a2610cdd"
      },
      "outputs": [
        {
          "output_type": "stream",
          "name": "stdout",
          "text": [
            "\n",
            "To-Do List Application\n",
            "1. Add Task\n",
            "2. View Tasks\n",
            "3. Mark Task as Completed\n",
            "4. Delete Task\n",
            "5. Exit\n",
            "Enter your choice (1-5): 5\n",
            "Thank you for using the To-Do List Application. Goodbye!\n"
          ]
        }
      ],
      "source": [
        "\t\t\t\t# Define an empty list to store tasks\n",
        "tasks = []\n",
        "\n",
        "# Function to add a new task\n",
        "def add_task():\n",
        "    task = input(\"Enter the task: \")\n",
        "    tasks.append({\"task\": task, \"completed\": False})\n",
        "    print(\"Task added successfully!\")\n",
        "\n",
        "# Function to view all tasks\n",
        "def view_tasks():\n",
        "    if not tasks:\n",
        "        print(\"No tasks found.\")\n",
        "    else:\n",
        "        print(\"Tasks:\")\n",
        "        for idx, task in enumerate(tasks, start=1):\n",
        "            status = \"Done\" if task[\"completed\"] else \"Not Done\"\n",
        "            print(f\"{idx}. {task['task']} - {status}\")\n",
        "\n",
        "# Function to mark a task as completed\n",
        "def mark_completed():\n",
        "    view_tasks()\n",
        "    idx = int(input(\"Enter the task number to mark as completed: \")) - 1\n",
        "    if 0 <= idx < len(tasks):\n",
        "        tasks[idx][\"completed\"] = True\n",
        "        print(\"Task marked as completed!\")\n",
        "    else:\n",
        "        print(\"Invalid task number.\")\n",
        "\n",
        "# Function to delete a task\n",
        "def delete_task():\n",
        "    view_tasks()\n",
        "    idx = int(input(\"Enter the task number to delete: \")) - 1\n",
        "    if 0 <= idx < len(tasks):\n",
        "        del tasks[idx]\n",
        "        print(\"Task deleted successfully!\")\n",
        "    else:\n",
        "        print(\"Invalid task number.\")\n",
        "\n",
        "# Main function to run the To-Do List Application\n",
        "def main():\n",
        "    while True:\n",
        "        print(\"\\nTo-Do List Application\")\n",
        "        print(\"1. Add Task\")\n",
        "        print(\"2. View Tasks\")\n",
        "        print(\"3. Mark Task as Completed\")\n",
        "        print(\"4. Delete Task\")\n",
        "        print(\"5. Exit\")\n",
        "        choice = input(\"Enter your choice (1-5): \")\n",
        "\n",
        "        if choice == \"1\":\n",
        "            add_task()\n",
        "        elif choice == \"2\":\n",
        "            view_tasks()\n",
        "        elif choice == \"3\":\n",
        "            mark_completed()\n",
        "        elif choice == \"4\":\n",
        "            delete_task()\n",
        "        elif choice == \"5\":\n",
        "            print(\"Thank you for using the To-Do List Application. Goodbye!\")\n",
        "            break\n",
        "        else:\n",
        "            print(\"Invalid choice. Please enter a number from 1 to 5.\")\n",
        "\n",
        "if __name__ == \"__main__\":\n",
        "    main()"
      ]
    }
  ]
}